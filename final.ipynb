{
 "cells": [
  {
   "cell_type": "markdown",
   "metadata": {},
   "source": [
    "reference: \n",
    "1. https://stackabuse.com/solving-systems-of-linear-equations-with-pythons-numpy/ (solve linear equation by Numpy)\n",
    "2. https://www.cliffsnotes.com/study-guides/algebra/linear-algebra/linear-systems/gaussian-elimination (Gaussian Elimination)\n",
    "3. https://www.quantstart.com/articles/LU-Decomposition-in-Python-and-NumPy/ （factorization matrix A= LU or A=LDU)\n",
    "4. https://github.com/rlabbe/Kalman-and-Bayesian-Filters-in-Python （Kalman-and-Bayesian-Filters-in-Python）\n",
    "5. https://integratedmlai.com/find-the-determinant-of-a-matrix-with-pure-python-without-numpy-or-scipy/ (determinant for matrix)\n",
    "6. https://math.libretexts.org/Bookshelves/Precalculus/Book%3A_Precalculus_(OpenStax)/09%3A_Systems_of_Equations_and_Inequalities/9.09%3A_Solving_Systems_with_Cramer's_Rule (Solving Systems with Cramer's Rule)"
   ]
  },
  {
   "cell_type": "code",
   "execution_count": 9,
   "metadata": {},
   "outputs": [],
   "source": [
    "import pandas as pd\n",
    "import numpy as np\n",
    "%matplotlib inline\n",
    "import matplotlib\n",
    "import matplotlib.pyplot as plt\n",
    "import numpy as np"
   ]
  },
  {
   "cell_type": "markdown",
   "metadata": {},
   "source": [
    "# Part 1: Solve a system of equations\n",
    "### Set up a system of equations with 3 variables and 3 constraints and solve for x."
   ]
  },
  {
   "cell_type": "markdown",
   "metadata": {},
   "source": [
    "#### system of equations with 3 variables and 3 constraints\n",
    "1. x + y - 3z = -10\n",
    "2. x - y + 2z = 3\n",
    "3. 2x + y - z = -6"
   ]
  },
  {
   "cell_type": "markdown",
   "metadata": {},
   "source": [
    "#### step to slove the equation\n",
    "1. -10-3 = x+y-3z-x+y-2z = -13 = 2y-5z (eqnation 1 minus equation 2)\n",
    "2. 3x2-(-6) = 2x-2y+4z-2x-y+z = 12 = -3y +5z (equation 2 times 2, then minus equation 3)\n",
    "3. -13+12 = 2y-5z-3y+5z = -1 = -y, y=1 (the result of step 1 plus the result of step 2)\n",
    "4. -13 = 2-5z, z=3 \n",
    "5. -10 = x + 1 -3x3, x = -2"
   ]
  },
  {
   "cell_type": "code",
   "execution_count": 43,
   "metadata": {},
   "outputs": [
    {
     "name": "stdout",
     "output_type": "stream",
     "text": [
      "[-2.  1.  3.]\n"
     ]
    }
   ],
   "source": [
    "# check the results\n",
    "import numpy as np\n",
    "a = np.array([[1, 1, -3], [1, -1, 2], [2, 1, -1]])\n",
    "b = np.array([-10, 3, -6])\n",
    "x = np.linalg.solve(a, b)\n",
    "print(x)"
   ]
  },
  {
   "cell_type": "markdown",
   "metadata": {},
   "source": [
    "# Part 2: Write a function and solve using elimination\n",
    "### Write a function in python that will take two variables (matrix A & constraint vector b) and solve using elimination. Your function should produce the right answer for the system of equations for any 3-variable, 3-equation system.\n",
    "\n",
    "### You don’t have to worry about degenerate cases and can safely assume that the function will only be tested with a system of equations that has a solution. Nor do you have to worry about zero pivots.\n",
    "\n",
    "### Do not use the built-in function solver to solve this system or use matrix inverses. The approach that you should employ is to construct an Upper Triangular Matrix and then back-substitute to get the solution.  Alternatively, you can augment the matrix A with vector b and jointly apply the Gauss Jordan elimination procedure.\n",
    "\n",
    "### Please then submit two test equations to show that your approach works."
   ]
  },
  {
   "cell_type": "code",
   "execution_count": 44,
   "metadata": {},
   "outputs": [
    {
     "name": "stdout",
     "output_type": "stream",
     "text": [
      "Matrix A \n",
      " [[ 1  1 -3]\n",
      " [ 1 -1  2]\n",
      " [ 2  1 -1]]\n",
      "Constraint vector b \n",
      " [-10   3  -6]\n"
     ]
    }
   ],
   "source": [
    "# matrix Ax = b (A is A, x is unknow number, b is b)\n",
    "A = np.array([[1, 1, -3], [1, -1, 2], [2, 1, -1]])\n",
    "b = np.array([-10, 3, -6])\n",
    "print('Matrix A \\n',a)\n",
    "print('Constraint vector b \\n',b)"
   ]
  },
  {
   "cell_type": "code",
   "execution_count": 48,
   "metadata": {},
   "outputs": [
    {
     "data": {
      "text/plain": [
       "array([-2.,  1.,  3.])"
      ]
     },
     "execution_count": 48,
     "metadata": {},
     "output_type": "execute_result"
    }
   ],
   "source": [
    "A = np.array([[1, 1, -3], [1, -1, 2], [2, 1, -1]], dtype='float')\n",
    "b = np.array([-10, 3, -6])\n",
    "\n",
    "Ab = np.hstack([A, b.reshape(-1, 1)])\n",
    "\n",
    "n = len(b)\n",
    "\n",
    "for i in range(n):\n",
    "    a = Ab[i]\n",
    "\n",
    "    for j in range(i + 1, n):\n",
    "        b = Ab[j]\n",
    "        m = a[i] / b[i]\n",
    "        Ab[j] = a - m * b\n",
    "\n",
    "for i in range(n - 1, -1, -1):\n",
    "    Ab[i] = Ab[i] / Ab[i, i]\n",
    "    a = Ab[i]\n",
    "\n",
    "    for j in range(i - 1, -1, -1):\n",
    "        b = Ab[j]\n",
    "        m = a[i] / b[i]\n",
    "        Ab[j] = a - m * b\n",
    "\n",
    "x = Ab[:, 3]\n",
    "x"
   ]
  },
  {
   "cell_type": "code",
   "execution_count": 6,
   "metadata": {},
   "outputs": [
    {
     "name": "stdout",
     "output_type": "stream",
     "text": [
      "[[  1   1  -3 -10]]\n",
      "[[ 0 -2  5 13]]\n",
      "[[ 0  0  5 15]]\n"
     ]
    }
   ],
   "source": [
    "# change the equation to matrix\n",
    "row1 = np.array([[1, 1, -3, -10]])\n",
    "row2 = np.array([[1, -1, 2,3]])\n",
    "row3 = np.array([[2, 1, -1,-6]])\n",
    "# use elimination to slove the equation\n",
    "new2 = row2-row1\n",
    "new3 = (row3-row2*2)*2+new2*3\n",
    "print(row1)\n",
    "print(new2)\n",
    "print(new3)"
   ]
  },
  {
   "cell_type": "markdown",
   "metadata": {},
   "source": [
    "According to the echelon form, we can get 5z=15, z=3, then back‐substitute into the second row to evaluate the second unknown y, -2y+5x3=13,y=1,then back‐substitute into the first row to evaluate the first unknown x, x+1-3x(-3)=-10, x=-2."
   ]
  },
  {
   "cell_type": "code",
   "execution_count": 7,
   "metadata": {},
   "outputs": [
    {
     "name": "stdout",
     "output_type": "stream",
     "text": [
      "[-2.  1.  3.]\n"
     ]
    }
   ],
   "source": [
    "# check\n",
    "X = np.linalg.inv(a).dot(b)\n",
    "print(X)"
   ]
  },
  {
   "cell_type": "code",
   "execution_count": 8,
   "metadata": {},
   "outputs": [
    {
     "name": "stdout",
     "output_type": "stream",
     "text": [
      "[-2.  1.  3.]\n"
     ]
    }
   ],
   "source": [
    "# check the result\n",
    "x = np.linalg.solve(a, b)\n",
    "print(x)"
   ]
  },
  {
   "cell_type": "code",
   "execution_count": 57,
   "metadata": {},
   "outputs": [
    {
     "name": "stdout",
     "output_type": "stream",
     "text": [
      "A = \n",
      "[[  2  -1   5   1]\n",
      " [  0   3  -5  -7]\n",
      " [  0   3   0  -1]\n",
      " [  0   0 -15   0]] and b = [ -3 -27 -45  56]\n",
      "A = \n",
      "[[  2  -1   5   1]\n",
      " [  0   3  -5  -7]\n",
      " [  0   0   5   6]\n",
      " [  0   0 -15   0]] and b = [ -3 -27 -18  56]\n",
      "A = \n",
      "[[ 2 -1  5  1]\n",
      " [ 0  3 -5 -7]\n",
      " [ 0  0  5  6]\n",
      " [ 0  0  0 18]] and b = [ -3 -27 -18   2]\n",
      "Gauss result is x = \n",
      " [[  0.2962963 ]\n",
      " [-14.96296296]\n",
      " [ -3.73333333]\n",
      " [  0.11111111]]\n"
     ]
    }
   ],
   "source": [
    "# Gaussian elimination with 4 variables (https://learnche.org/3E4/Assignment_2_-_2010_-_Solution/Bonus_question)\n",
    "def forward_elimination(A, b, n):\n",
    "    \"\"\"\n",
    "    Calculates the forward part of Gaussian elimination.\n",
    "    \"\"\"\n",
    "    for row in range(0, n-1):\n",
    "        for i in range(row+1, n):\n",
    "            factor = A[i,row] / A[row,row]\n",
    "            for j in range(row, n):\n",
    "                A[i,j] = A[i,j] - factor * A[row,j]\n",
    "\n",
    "            b[i] = b[i] - factor * b[row]\n",
    "\n",
    "        print('A = \\n%s and b = %s' % (A,b))\n",
    "    return A, b\n",
    "\n",
    "def back_substitution(a, b, n):\n",
    "    \"\"\"\"\n",
    "    Does back substitution, returns the Gauss result.\n",
    "    \"\"\"\n",
    "    x = np.zeros((n,1))\n",
    "    x[n-1] = b[n-1] / a[n-1, n-1]\n",
    "    for row in range(n-2, -1, -1):\n",
    "        sums = b[row]\n",
    "        for j in range(row+1, n):\n",
    "            sums = sums - a[row,j] * x[j]\n",
    "        x[row] = sums / a[row,row]\n",
    "    return x\n",
    "\n",
    "def gauss(A, b):\n",
    "    \"\"\"\n",
    "    This function performs Gauss elimination without pivoting.\n",
    "    \"\"\"\n",
    "    n = A.shape[0]\n",
    "\n",
    "    # Check for zero diagonal elements\n",
    "    if any(np.diag(A)==0):\n",
    "        raise ZeroDivisionError(('Division by zero will occur; '\n",
    "                                  'pivoting currently not supported'))\n",
    "\n",
    "    A, b = forward_elimination(A, b, n)\n",
    "    return back_substitution(A, b, n)\n",
    "\n",
    "# Main program starts here\n",
    "if __name__ == '__main__':\n",
    "    A = np.array([[2,-1,5,1],\n",
    "                  [3,2,2,-6],\n",
    "                  [1,3,3,-1],\n",
    "                  [5,-2,-3,3]])\n",
    "    b = np.array([-3,-32,-47,49])\n",
    "    x = gauss(A, b)\n",
    "    print('Gauss result is x = \\n %s' % x)"
   ]
  },
  {
   "cell_type": "markdown",
   "metadata": {},
   "source": [
    "# Part 3: Functions of matrices \n",
    "### Show that ATA does not equal AAT in general.\n",
    "\n",
    "### For a special type of square matrix A, we get ATA = AAT. Under what conditions could this be true? (Hint: The Identity matrix I is an example of such a matrix)."
   ]
  },
  {
   "cell_type": "code",
   "execution_count": 78,
   "metadata": {},
   "outputs": [
    {
     "name": "stdout",
     "output_type": "stream",
     "text": [
      "AA^T is \n",
      " [[10 14]\n",
      " [14 20]]\n",
      "A^TA is \n",
      " [[ 5 19]\n",
      " [19 25]]\n"
     ]
    }
   ],
   "source": [
    "a = 1\n",
    "b = 3\n",
    "c = 2\n",
    "d = 4\n",
    "q1 = a**2+b**2\n",
    "q2 = a*c+b*d\n",
    "q3 =c**2+d**2\n",
    "A = np.array([[a,b],[c,d]])\n",
    "AT = np.array([[a,c],[b,d]])\n",
    "AAT = np.array([[q1,q2],[q2,q3]])\n",
    "print('AA^T is \\n',AAT)\n",
    "q4 = a**2+c**2\n",
    "q5 = a*b+c**d\n",
    "q6 = b**2+d**2\n",
    "ATA = np.array([[q4,q5],[q5,q6]])\n",
    "print('A^TA is \\n',ATA)"
   ]
  },
  {
   "cell_type": "markdown",
   "metadata": {},
   "source": [
    "If ATA = AAT, the q1 = q4, q2 = q5, q3 = q6. \n",
    "1. a**2+b**2 = a**2+c**2, b^2 = c^2, abusoluted value of b = absoluated value c\n",
    "2. a*c+b*d = a*b+c*d \n",
    "3. c**2+d**2 = b**2+d**2, b^2 = c^2, abusoluted value of b = absoluated value c\n",
    "4. (a*c+b*d)**2 = (a*b+c*d)**2, a^2c^2 + 2abcd +b^2d^2 = a^2b^2 +2abcd +c^2d^2, a^2c^2 + b^2d^2 = a^2b^2 +c^2d^2\n"
   ]
  },
  {
   "cell_type": "markdown",
   "metadata": {},
   "source": [
    "According to above function, we can konw ATA does not equal AAT in general.If a, b,c,d are same unless 0, ATA equal to AAT."
   ]
  },
  {
   "cell_type": "code",
   "execution_count": 76,
   "metadata": {},
   "outputs": [
    {
     "name": "stdout",
     "output_type": "stream",
     "text": [
      "AA^T is \n",
      " [[0 0]\n",
      " [0 0]]\n",
      "A^TA is \n",
      " [[0 1]\n",
      " [1 0]]\n"
     ]
    }
   ],
   "source": [
    "a = 0\n",
    "b = 0\n",
    "c = 0\n",
    "d = 0\n",
    "q1 = a**2+b**2\n",
    "q2 = a*c+b*d\n",
    "q3 =c**2+d**2\n",
    "A = np.array([[a,b],[c,d]])\n",
    "AT = np.array([[a,c],[b,d]])\n",
    "AAT = np.array([[q1,q2],[q2,q3]])\n",
    "print('AA^T is \\n',AAT)\n",
    "q4 = a**2+c**2\n",
    "q5 = a*b+c**d\n",
    "q6 = b**2+d**2\n",
    "ATA = np.array([[q4,q5],[q5,q6]])\n",
    "print('A^TA is \\n',ATA)"
   ]
  },
  {
   "cell_type": "code",
   "execution_count": 77,
   "metadata": {},
   "outputs": [
    {
     "name": "stdout",
     "output_type": "stream",
     "text": [
      "AA^T is \n",
      " [[8 8]\n",
      " [8 8]]\n",
      "A^TA is \n",
      " [[8 8]\n",
      " [8 8]]\n"
     ]
    }
   ],
   "source": [
    "a = 2\n",
    "b = 2\n",
    "c = 2\n",
    "d = 2\n",
    "q1 = a**2+b**2\n",
    "q2 = a*c+b*d\n",
    "q3 =c**2+d**2\n",
    "A = np.array([[a,b],[c,d]])\n",
    "AT = np.array([[a,c],[b,d]])\n",
    "AAT = np.array([[q1,q2],[q2,q3]])\n",
    "print('AA^T is \\n',AAT)\n",
    "q4 = a**2+c**2\n",
    "q5 = a*b+c**d\n",
    "q6 = b**2+d**2\n",
    "ATA = np.array([[q4,q5],[q5,q6]])\n",
    "print('A^TA is \\n',ATA)"
   ]
  },
  {
   "cell_type": "code",
   "execution_count": null,
   "metadata": {},
   "outputs": [],
   "source": []
  },
  {
   "cell_type": "markdown",
   "metadata": {},
   "source": [
    "# Part 4: Matrix factorization\n",
    "### Matrix factorization is a very important problem. There are supercomputers built just to do matrix factorizations. Every second you are on an airplane, matrices are being factorized. Radars that track ﬂights use a technique called Kalman ﬁltering. At the heart of Kalman Filtering is a Matrix Factorization operation. Kalman Filters are solving linear systems of equations when they track your ﬂight using radars.\n",
    "\n",
    "### Write a python function to factorize a square matrix A into LU or LDU, whichever you prefer. Assume that the matrix size is less than 5 by 5."
   ]
  },
  {
   "cell_type": "code",
   "execution_count": 13,
   "metadata": {},
   "outputs": [
    {
     "name": "stdout",
     "output_type": "stream",
     "text": [
      "The square matrixA: \n",
      " [[ 3  3 -1  3]\n",
      " [ 3  5  1 -4]\n",
      " [-1  3  4 -1]\n",
      " [ 2 -4 -1  6]]\n",
      "Factorizing matrix D: \n",
      " [[ 1.          0.          0.          0.        ]\n",
      " [ 0.66666667  1.          0.          0.        ]\n",
      " [-0.33333333 -0.66666667  1.          0.        ]\n",
      " [ 1.         -0.33333333  0.5483871   1.        ]]\n",
      "Factorizing matrix L:\n",
      " [[1. 0. 0. 0.]\n",
      " [0. 0. 0. 1.]\n",
      " [0. 0. 1. 0.]\n",
      " [0. 1. 0. 0.]]\n",
      "Factorizing matrix U: \n",
      " [[ 3.          3.         -1.          3.        ]\n",
      " [ 0.         -6.         -0.33333333  4.        ]\n",
      " [ 0.          0.          3.44444444  2.66666667]\n",
      " [ 0.          0.          0.         -7.12903226]]\n"
     ]
    }
   ],
   "source": [
    "import scipy\n",
    "import scipy.linalg   # SciPy Linear Algebra Library\n",
    "#  create a square matrix A\n",
    "A = scipy.array([ [3, 3, -1, 3], [3, 5, 1, -4], [-1, 3, 4, -1], [2, -4, -1, 6] ])\n",
    "# factorize the matrix A \n",
    "L, D, U = scipy.linalg.lu(A)\n",
    "\n",
    "print (\"The square matrixA: \\n\", A)\n",
    "print('Factorizing matrix D: \\n',D)\n",
    "print (\"Factorizing matrix L:\\n\",L)\n",
    "print('Factorizing matrix U: \\n',U)"
   ]
  },
  {
   "cell_type": "markdown",
   "metadata": {},
   "source": [
    "# Part 5: Build your own function to solve a determinant for any matrix\n",
    "### Please test it on one 2 by 2 matrix, one 3 by 3 matrix and one 4 by 4 matrix. Do not use any existing determinant functions"
   ]
  },
  {
   "cell_type": "code",
   "execution_count": 52,
   "metadata": {},
   "outputs": [],
   "source": [
    "#Python program to find Determinant of a matrix  (https://www.geeksforgeeks.org/determinant-of-a-matrix/)\n",
    "  \n",
    "def determinantOfMatrix(mat,n): \n",
    "  \n",
    "    temp = [0]*n # temporary array for storing row   \n",
    "    total=1 \n",
    "    det=1  # initialize result \n",
    "  \n",
    "    # loop for traversing the diagonal elements  \n",
    "    for i in range(0,n): \n",
    "        index=i  # initialize the index \n",
    "  \n",
    "        # finding the index which has non zero value   \n",
    "        while(mat[index][i] == 0 and index < n): \n",
    "            index+=1\n",
    "     \n",
    "        if(index == n): # if there is non zero element \n",
    "            # the determinat of matrix as zero \n",
    "            continue\n",
    "  \n",
    "        if(index != i): \n",
    "            # loop for swaping the diagonal element row and index row \n",
    "            for j in range(0,n): \n",
    "                mat[index][j],mat[i][j] = mat[i][j],mat[index][j] \n",
    "                  \n",
    "            # determinant sign changes when we shift rows   \n",
    "            # go through determinant properties   \n",
    "            det = det*int(pow(-1,index-i)) \n",
    "    \n",
    "        # storing the values of diagonal row elements  \n",
    "        for j in range(0,n): \n",
    "            temp[j] = mat[i][j] \n",
    "           \n",
    "        #traversing every row below the diagonal element \n",
    "        for j in range(i+1,n): \n",
    "            num1 = temp[i]     # value of diagonal element \n",
    "            num2 = mat[j][i]   # value of next row element \n",
    "  \n",
    "            # traversing every column of row   \n",
    "            # and multiplying to every row   \n",
    "            for k in range(0,n): \n",
    "                # multiplying to make the diagonal   \n",
    "                # element and next row element equal \n",
    "  \n",
    "                mat[j][k] = (num1*mat[j][k]) - (num2*temp[k]) \n",
    "  \n",
    "            total = total * num1 # Det(kA)=kDet(A); \n",
    "  \n",
    "    #mulitplying the diagonal elements to get determinant \n",
    "    for i in range(0,n): \n",
    "         det = det*mat[i][i] \n",
    "  \n",
    "  \n",
    "    return int(det/total) #Det(kA)/k=Det(A);   \n"
   ]
  },
  {
   "cell_type": "markdown",
   "metadata": {},
   "source": [
    "### 2 by 2 matrix"
   ]
  },
  {
   "cell_type": "code",
   "execution_count": 14,
   "metadata": {},
   "outputs": [
    {
     "data": {
      "text/plain": [
       "array([[1, 3],\n",
       "       [3, 5]])"
      ]
     },
     "execution_count": 14,
     "metadata": {},
     "output_type": "execute_result"
    }
   ],
   "source": [
    "# create a 2x2 matrix\n",
    "two = np.array([[1,3], [3,5]]) \n",
    "two"
   ]
  },
  {
   "cell_type": "code",
   "execution_count": 53,
   "metadata": {},
   "outputs": [
    {
     "name": "stdout",
     "output_type": "stream",
     "text": [
      "Determinant of the matrix is :  -4\n"
     ]
    }
   ],
   "source": [
    "#Drivers code \n",
    "if __name__ == \"__main__\": \n",
    "  \n",
    "    mat=[[1,3], [3,5]] \n",
    "    N=len(mat) \n",
    "    print(\"Determinant of the matrix is : \",determinantOfMatrix(mat,N)) "
   ]
  },
  {
   "cell_type": "code",
   "execution_count": 15,
   "metadata": {},
   "outputs": [
    {
     "data": {
      "text/plain": [
       "-4"
      ]
     },
     "execution_count": 15,
     "metadata": {},
     "output_type": "execute_result"
    }
   ],
   "source": [
    "# olve a determinant for 2x2 matrix\n",
    "result = 1*5-3*3\n",
    "result"
   ]
  },
  {
   "cell_type": "code",
   "execution_count": 16,
   "metadata": {},
   "outputs": [
    {
     "data": {
      "text/plain": [
       "-4.000000000000001"
      ]
     },
     "execution_count": 16,
     "metadata": {},
     "output_type": "execute_result"
    }
   ],
   "source": [
    "# check a determinant for 2x2 matrix\n",
    "two= np.linalg.det(two)\n",
    "two"
   ]
  },
  {
   "cell_type": "markdown",
   "metadata": {},
   "source": [
    "### 3 by 3 matrix"
   ]
  },
  {
   "cell_type": "code",
   "execution_count": 17,
   "metadata": {},
   "outputs": [
    {
     "data": {
      "text/plain": [
       "array([[ 6,  1,  1],\n",
       "       [ 4, -2,  5],\n",
       "       [ 2,  6,  7]])"
      ]
     },
     "execution_count": 17,
     "metadata": {},
     "output_type": "execute_result"
    }
   ],
   "source": [
    "# create a 3x3 matrix\n",
    "three = np.array([[6,1,1], [4, -2, 5], [2,6,7]]) \n",
    "three "
   ]
  },
  {
   "cell_type": "code",
   "execution_count": 54,
   "metadata": {},
   "outputs": [
    {
     "name": "stdout",
     "output_type": "stream",
     "text": [
      "Determinant of the matrix is :  -254\n"
     ]
    }
   ],
   "source": [
    "#Drivers code \n",
    "if __name__ == \"__main__\": \n",
    "  \n",
    "    mat=[[6,1,1], [4, -2, 5], [2,6,7]] \n",
    "    N=len(mat) \n",
    "    print(\"Determinant of the matrix is : \",determinantOfMatrix(mat,N))"
   ]
  },
  {
   "cell_type": "code",
   "execution_count": 18,
   "metadata": {},
   "outputs": [
    {
     "data": {
      "text/plain": [
       "-254"
      ]
     },
     "execution_count": 18,
     "metadata": {},
     "output_type": "execute_result"
    }
   ],
   "source": [
    "# olve a determinant for 3x3 matrix\n",
    "result = 6*(-2*7 - 5*6) - 1*(4*7 - 5*2) + 1*(4*6 - -2*2)\n",
    "result"
   ]
  },
  {
   "cell_type": "code",
   "execution_count": 19,
   "metadata": {},
   "outputs": [
    {
     "data": {
      "text/plain": [
       "-254.0"
      ]
     },
     "execution_count": 19,
     "metadata": {},
     "output_type": "execute_result"
    }
   ],
   "source": [
    "# check a determinant for 3x3 matrix\n",
    "three = np.linalg.det(three) \n",
    "three"
   ]
  },
  {
   "cell_type": "markdown",
   "metadata": {},
   "source": [
    "### 4 by 4 matrix"
   ]
  },
  {
   "cell_type": "code",
   "execution_count": 43,
   "metadata": {},
   "outputs": [
    {
     "data": {
      "text/plain": [
       "array([[ 6,  1,  1,  2],\n",
       "       [ 4, -2,  5,  4],\n",
       "       [ 2,  8,  7,  5],\n",
       "       [ 2,  4,  3,  1]])"
      ]
     },
     "execution_count": 43,
     "metadata": {},
     "output_type": "execute_result"
    }
   ],
   "source": [
    "# create a 4x4 matrix\n",
    "four = np.array([[6,1,1,2], [4, -2, 5,4], [2,8,7,5],[2,4,3,1]]) \n",
    "four"
   ]
  },
  {
   "cell_type": "code",
   "execution_count": 44,
   "metadata": {},
   "outputs": [
    {
     "name": "stdout",
     "output_type": "stream",
     "text": [
      "Determinant of the matrix is :  432\n"
     ]
    }
   ],
   "source": [
    "#Drivers code \n",
    "if __name__ == \"__main__\": \n",
    "  \n",
    "    mat=[[6,1,1,2], [4, -2, 5,4], [2,8,7,5],[2,4,3,1]] \n",
    "    N=len(mat) \n",
    "    print(\"Determinant of the matrix is : \",determinantOfMatrix(mat,N))"
   ]
  },
  {
   "cell_type": "code",
   "execution_count": 45,
   "metadata": {},
   "outputs": [
    {
     "name": "stdout",
     "output_type": "stream",
     "text": [
      "d1\n",
      " [[ 1  1  2]\n",
      " [-2  5  4]\n",
      " [ 4  3  1]]\n",
      "d2\n",
      " [[6 1 2]\n",
      " [4 5 4]\n",
      " [2 3 1]]\n",
      "d3\n",
      " [[ 6  1  2]\n",
      " [ 4 -2  4]\n",
      " [ 2  4  1]]\n",
      "d4\n",
      " [[ 6  1  1]\n",
      " [ 4 -2  5]\n",
      " [ 2  4  3]]\n"
     ]
    },
    {
     "data": {
      "text/plain": [
       "432"
      ]
     },
     "execution_count": 45,
     "metadata": {},
     "output_type": "execute_result"
    }
   ],
   "source": [
    "# extract row 3 （exchange 4x4 matrix as A times 3x3 matrix)\n",
    "d1 = np.array([[1,1,2],[-2,5,4],[4,3,1]])\n",
    "print('d1\\n',d1)\n",
    "r1 = 1*(5*1-4*3)-1*(-2*1-4*4)+2*(-2*3-5*4)\n",
    "r1\n",
    "d2 = np.array([[6,1,2],[4,5,4],[2,3,1]])\n",
    "print('d2\\n',d2)\n",
    "r2 = 6*(5-4*3)-(4-4*2)+2*(4*3-5*2)\n",
    "d3 = np.array([[6,1,2],[4,-2,4],[2,4,1]])\n",
    "print('d3\\n',d3)\n",
    "r3 = 6*(-2-4*4)-(4-2*4)+2*(4*4- -2*2)\n",
    "d4 = np.array([[6,1,1],[4,-2,5],[2,4,3]])\n",
    "print('d4\\n',d4)\n",
    "r4 = 6*(-2*3-5*4)-(4*3-2*5)+(4*4- -2*2)\n",
    "result = 2*r1-8*r2+7*r3-5*r4\n",
    "result"
   ]
  },
  {
   "cell_type": "code",
   "execution_count": 46,
   "metadata": {},
   "outputs": [
    {
     "data": {
      "text/plain": [
       "431.9999999999998"
      ]
     },
     "execution_count": 46,
     "metadata": {},
     "output_type": "execute_result"
    }
   ],
   "source": [
    "# check a determinant for 4x4 matrix\n",
    "four = np.linalg.det(four) \n",
    "four"
   ]
  },
  {
   "cell_type": "code",
   "execution_count": 23,
   "metadata": {},
   "outputs": [
    {
     "data": {
      "text/plain": [
       "432.0"
      ]
     },
     "execution_count": 23,
     "metadata": {},
     "output_type": "execute_result"
    }
   ],
   "source": [
    "a = np.linalg.det(d1)\n",
    "b =np.linalg.det(d2)\n",
    "c=np.linalg.det(d3)\n",
    "d=np.linalg.det(d4)\n",
    "f=2*a-8*b+7*c-5*d\n",
    "f"
   ]
  },
  {
   "cell_type": "markdown",
   "metadata": {},
   "source": [
    "# Part 6: Build your own function from scratch to solve equations via Cramer’s rules.\n",
    "### Please submit 3 examples including at least one 4 by 4 that demonstrates that it works, and do not use any existing shortcut functions. "
   ]
  },
  {
   "cell_type": "code",
   "execution_count": 1,
   "metadata": {},
   "outputs": [
    {
     "data": {
      "image/png": "[encoded data removed]",
      "text/plain": [
       "<IPython.core.display.Image object>"
      ]
     },
     "execution_count": 1,
     "metadata": {},
     "output_type": "execute_result"
    }
   ],
   "source": [
    "from IPython.display import Image\n",
    "Image('final-2.png')"
   ]
  },
  {
   "cell_type": "markdown",
   "metadata": {},
   "source": [
    "##### example 1\n",
    "1. 2w - x + 5y + z = -3\n",
    "2. 3w + 2x +2y -6z = -32\n",
    "3. w + 3x +3y - z = -47\n",
    "4. 5w -2x - 3y + 3z = 49"
   ]
  },
  {
   "cell_type": "code",
   "execution_count": 55,
   "metadata": {},
   "outputs": [
    {
     "name": "stdout",
     "output_type": "stream",
     "text": [
      "Determinant of the matrix is :  684\n",
      "w=2.0 x=-12.0 y=-4.0 z=1.0\n"
     ]
    }
   ],
   "source": [
    "#Drivers code \n",
    "if __name__ == \"__main__\": \n",
    "  \n",
    "    mat=[[2,-1,5,1,-3],[3,2,2,-6,-32],[1,3,3,-1,-47],[5,-2,-3,3,49]] \n",
    "    N=len(mat) \n",
    "    print(\"Determinant of the matrix is : \",determinantOfMatrix(mat,N))\n",
    "    \n",
    "A=[[2,-1,5,1],[3,2,2,-6],[1,3,3,-1],[5,-2,-3,3]]\n",
    "B=[-3,-32,-47,49]\n",
    "C=[[2,-1,5,1],[3,2,2,-6],[1,3,3,-1],[5,-2,-3,3]]\n",
    "X=[]\n",
    "for k in range(0,len(B)):\n",
    "    for u in range(0,len(B)):\n",
    "        C[u][k]=B[u]\n",
    "        if k>0:\n",
    "            C[u][k-1]=A[u][k-1]\n",
    "    X.append(round(linalg.det(C)/linalg.det(A),1))\n",
    " \n",
    "print('w=%s'%X[0],'x=%s'%X[1],'y=%s'%X[2],'z=%s'%X[3])"
   ]
  },
  {
   "cell_type": "code",
   "execution_count": 51,
   "metadata": {},
   "outputs": [
    {
     "data": {
      "text/plain": [
       "684.0000000000005"
      ]
     },
     "execution_count": 51,
     "metadata": {},
     "output_type": "execute_result"
    }
   ],
   "source": [
    "linalg.det(C)"
   ]
  },
  {
   "cell_type": "code",
   "execution_count": 52,
   "metadata": {},
   "outputs": [
    {
     "data": {
      "text/plain": [
       "683.9999999999998"
      ]
     },
     "execution_count": 52,
     "metadata": {},
     "output_type": "execute_result"
    }
   ],
   "source": [
    "linalg.det(A)"
   ]
  },
  {
   "cell_type": "code",
   "execution_count": 42,
   "metadata": {},
   "outputs": [
    {
     "name": "stdout",
     "output_type": "stream",
     "text": [
      "[  2. -12.  -4.   1.]\n"
     ]
    }
   ],
   "source": [
    "#check\n",
    "a = np.array([[2,-1,5,1],[3,2,2,-6],[1,3,3,-1],[5,-2,-3,3]])\n",
    "b = np.array([-3,-32,-47,49])\n",
    "x = np.linalg.solve(a, b)\n",
    "print(x)"
   ]
  },
  {
   "cell_type": "markdown",
   "metadata": {},
   "source": [
    "##### example 2"
   ]
  },
  {
   "cell_type": "markdown",
   "metadata": {},
   "source": [
    "\n",
    "1. 6w + x + y + 2z = -3\n",
    "2. 4w - 2x +5y + 4z = -30\n",
    "3. 2w + 8x +7y + 5z = -15\n",
    "4. 2w + 4x - 3y + z = 40"
   ]
  },
  {
   "cell_type": "code",
   "execution_count": 37,
   "metadata": {},
   "outputs": [
    {
     "name": "stdout",
     "output_type": "stream",
     "text": [
      "w=-1.6 x=2.3 y=-9.1 z=6.6\n"
     ]
    }
   ],
   "source": [
    "A=[[6,1,1,2], [4, -2, 5,4], [2,8,7,5],[2,4,-3,1]]\n",
    "B=[-3,-30,-15,40]\n",
    "C=[[6,1,1,2], [4, -2, 5,4], [2,8,7,5],[2,4,-3,1]]\n",
    "X=[]\n",
    "for k in range(0,len(B)):\n",
    "    for u in range(0,len(B)):\n",
    "        C[u][k]=B[u]\n",
    "        if k>0:\n",
    "            C[u][k-1]=A[u][k-1]\n",
    "    X.append(round(linalg.det(C)/linalg.det(A),1))\n",
    " \n",
    "print('w=%s'%X[0],'x=%s'%X[1],'y=%s'%X[2],'z=%s'%X[3])"
   ]
  },
  {
   "cell_type": "code",
   "execution_count": 38,
   "metadata": {},
   "outputs": [
    {
     "name": "stdout",
     "output_type": "stream",
     "text": [
      "[-1.57083333  2.34166667 -9.06666667  6.575     ]\n"
     ]
    }
   ],
   "source": [
    "#check\n",
    "a = np.array([[6,1,1,2], [4, -2, 5,4], [2,8,7,5],[2,4,-3,1]])\n",
    "b = np.array([-3,-30,-15,40])\n",
    "x = np.linalg.solve(a, b)\n",
    "print(x)"
   ]
  },
  {
   "cell_type": "markdown",
   "metadata": {},
   "source": [
    "##### example 3\n",
    "1. 5x + y + 3z - w= -3\n",
    "2. 3x + 5y - z +6w = 6\n",
    "3. 2x - y + 7z +5w = -1\n",
    "4. 2x + 4y -3z +4w = 13"
   ]
  },
  {
   "cell_type": "code",
   "execution_count": 40,
   "metadata": {},
   "outputs": [
    {
     "name": "stdout",
     "output_type": "stream",
     "text": [
      "w=6.1 x=-9.3 y=-6.5 z=4.6\n"
     ]
    }
   ],
   "source": [
    "A=[[5,1,3,-1], [3,5,-1,6], [2,-1,7,5],[2,4,-3,4]]\n",
    "B=[-3,6,-1,13]\n",
    "C=[[5,1,3,-1], [3,5,-1,6], [2,-1,7,5],[2,4,-3,4]]\n",
    "X=[]\n",
    "for k in range(0,len(B)):\n",
    "    for u in range(0,len(B)):\n",
    "        C[u][k]=B[u]\n",
    "        if k>0:\n",
    "            C[u][k-1]=A[u][k-1]\n",
    "    X.append(round(linalg.det(C)/linalg.det(A),1))\n",
    " \n",
    "print('w=%s'%X[0],'x=%s'%X[1],'y=%s'%X[2],'z=%s'%X[3])"
   ]
  },
  {
   "cell_type": "code",
   "execution_count": 41,
   "metadata": {},
   "outputs": [
    {
     "name": "stdout",
     "output_type": "stream",
     "text": [
      "[ 6.09661836 -9.30917874 -6.51690821  4.62318841]\n"
     ]
    }
   ],
   "source": [
    "#check\n",
    "a = np.array([[5,1,3,-1], [3,5,-1,6], [2,-1,7,5],[2,4,-3,4]])\n",
    "b = np.array([-3,6,-1,13])\n",
    "x = np.linalg.solve(a, b)\n",
    "print(x)"
   ]
  },
  {
   "cell_type": "markdown",
   "metadata": {},
   "source": [
    "# outsources"
   ]
  },
  {
   "cell_type": "code",
   "execution_count": 33,
   "metadata": {},
   "outputs": [
    {
     "data": {
      "text/plain": [
       "-5.0"
      ]
     },
     "execution_count": 33,
     "metadata": {},
     "output_type": "execute_result"
    }
   ],
   "source": [
    "import copy\n",
    "from fractions import Fraction\n",
    " \n",
    "def gauss(a, b):\n",
    "    a = copy.deepcopy(a)\n",
    "    b = copy.deepcopy(b)\n",
    "    n = len(a)\n",
    "    p = len(b[0])\n",
    "    det = 1\n",
    "    for i in range(n - 1):\n",
    "        k = i\n",
    "        for j in range(i + 1, n):\n",
    "            if abs(a[j][i]) > abs(a[k][i]):\n",
    "                k = j\n",
    "        if k != i:\n",
    "            a[i], a[k] = a[k], a[i]\n",
    "            b[i], b[k] = b[k], b[i]\n",
    "            det = -det\n",
    " \n",
    "        for j in range(i + 1, n):\n",
    "            t = a[j][i]/a[i][i]\n",
    "            for k in range(i + 1, n):\n",
    "                a[j][k] -= t*a[i][k]\n",
    "            for k in range(p):\n",
    "                b[j][k] -= t*b[i][k]\n",
    " \n",
    "    for i in range(n - 1, -1, -1):\n",
    "        for j in range(i + 1, n):\n",
    "            t = a[i][j]\n",
    "            for k in range(p):\n",
    "                b[i][k] -= t*b[j][k]\n",
    "        t = 1/a[i][i]\n",
    "        det *= a[i][i]\n",
    "        for j in range(p):\n",
    "            b[i][j] *= t\n",
    "    return det, b\n",
    " \n",
    "def zeromat(p, q):\n",
    "    return [[0]*q for i in range(p)]\n",
    " \n",
    "def matmul(a, b):\n",
    "    n, p = len(a), len(a[0])\n",
    "    p1, q = len(b), len(b[0])\n",
    "    if p != p1:\n",
    "        raise ValueError(\"Incompatible dimensions\")\n",
    "    c = zeromat(n, q)\n",
    "    for i in range(n):\n",
    "        for j in range(q):\n",
    "                c[i][j] = sum(a[i][k]*b[k][j] for k in range(p))\n",
    "    return c\n",
    " \n",
    " \n",
    "def mapmat(f, a):\n",
    "    return [list(map(f, v)) for v in a]\n",
    " \n",
    "def ratmat(a):\n",
    "    return mapmat(Fraction, a)\n",
    " \n",
    "# As an example, compute the determinant and inverse of 3x3 magic square\n",
    " \n",
    "a = [[1, 1, -3], [1, -1, 2], [2, 1, -1]]\n",
    "b = [[-10, 0,0],[0,3,0],[0,0,-6]]\n",
    "det, c = gauss(a, b)\n",
    " \n",
    "det"
   ]
  }
 ],
 "metadata": {
  "kernelspec": {
   "display_name": "Python 3",
   "language": "python",
   "name": "python3"
  },
  "language_info": {
   "codemirror_mode": {
    "name": "ipython",
    "version": 3
   },
   "file_extension": ".py",
   "mimetype": "text/x-python",
   "name": "python",
   "nbconvert_exporter": "python",
   "pygments_lexer": "ipython3",
   "version": "3.7.3"
  }
 },
 "nbformat": 4,
 "nbformat_minor": 2
}
